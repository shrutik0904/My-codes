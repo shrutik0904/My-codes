{
 "cells": [
  {
   "cell_type": "code",
   "execution_count": 0,
   "metadata": {
    "application/vnd.databricks.v1+cell": {
     "cellMetadata": {
      "byteLimit": 2048000,
      "rowLimit": 10000
     },
     "inputWidgets": {},
     "nuid": "88458970-917b-4254-816c-ae5c9f9e5bd5",
     "showTitle": false,
     "title": ""
    }
   },
   "outputs": [],
   "source": [
    "import pyspark\n",
    "from pyspark.sql import SparkSession\n",
    "from pyspark.sql.functions import col\n",
    "from pyspark.sql.functions import trim, lower,concat_ws, collect_list"
   ]
  },
  {
   "cell_type": "code",
   "execution_count": 0,
   "metadata": {
    "application/vnd.databricks.v1+cell": {
     "cellMetadata": {
      "byteLimit": 2048000,
      "rowLimit": 10000
     },
     "inputWidgets": {},
     "nuid": "7c0e7b96-cb52-4902-801a-015d6634453c",
     "showTitle": false,
     "title": ""
    }
   },
   "outputs": [],
   "source": [
    "spark = SparkSession.builder \\\n",
    "    .appName(\"data_modelling\") \\\n",
    "    .getOrCreate()"
   ]
  },
  {
   "cell_type": "code",
   "execution_count": 0,
   "metadata": {
    "application/vnd.databricks.v1+cell": {
     "cellMetadata": {
      "byteLimit": 2048000,
      "rowLimit": 10000
     },
     "inputWidgets": {},
     "nuid": "bfc31751-3f00-4570-b480-940112e42644",
     "showTitle": false,
     "title": ""
    }
   },
   "outputs": [],
   "source": [
    "df_read = spark.read.format(\"jdbc\").option(\"url\", \"jdbc:sqlserver://destination-landing-db.database.windows.net:1433;database=destination\").option(\"dbtable\", 'curated_layer.transformed_data').option(\"user\", 'adminuser@destination-landing-db').option(\"password\", 'Test1234').load() "
   ]
  },
  {
   "cell_type": "code",
   "execution_count": 0,
   "metadata": {
    "application/vnd.databricks.v1+cell": {
     "cellMetadata": {
      "byteLimit": 2048000,
      "rowLimit": 10000
     },
     "inputWidgets": {},
     "nuid": "06d97f51-b5f5-4227-9de5-73752ba8fea5",
     "showTitle": false,
     "title": ""
    }
   },
   "outputs": [],
   "source": [
    "# df_read.select('StockCode', 'Description') \\\n",
    "#     .withColumn('StockCodeTrimmed', trim('StockCode')) \\\n",
    "#     .withColumn('StockCodeLowerCase', lower('StockCodeTrimmed')) \\\n",
    "#     .groupBy('StockCode', 'StockCodeTrimmed', 'StockCodeLowerCase', 'Description') \\\n",
    "#     .count() \\\n",
    "#     .filter('count > 1') \\\n",
    "#     .show()\n",
    "\n"
   ]
  },
  {
   "cell_type": "code",
   "execution_count": 0,
   "metadata": {
    "application/vnd.databricks.v1+cell": {
     "cellMetadata": {
      "byteLimit": 2048000,
      "rowLimit": 10000
     },
     "inputWidgets": {},
     "nuid": "9f869a3d-9345-40db-87b1-be4e5b2a9a5f",
     "showTitle": false,
     "title": ""
    }
   },
   "outputs": [],
   "source": [
    "def product_table(df_read):\n",
    "    df_product_columns = ['StockCode','Description']\n",
    "    df_product_columns_selected = df_read.select(*df_product_columns)\n",
    "    df_cleaned = df_product_columns_selected.withColumn('StockCode', trim(lower(col('StockCode'))))\n",
    "    # df_cleaned_no_null_description = df_cleaned.filter(col('Description').isNotNull() & (col('Description') != \"\"))\n",
    "    df_concatenated_descriptions = df_cleaned.groupBy('StockCode').agg(concat_ws(\", \", collect_list('Description')).alias('Description'))\n",
    "    df_product_columns_selected2 = df_concatenated_descriptions.dropDuplicates(['StockCode'])\n",
    "    return df_product_columns_selected2\n",
    "\n",
    "df_product_columns_selected2 = product_table(df_read)\n",
    "\n",
    "def product_table_mapping(df_product_columns_selected2):\n",
    "    product_column_mapped = {\"StockCode\":\"StockCode\",\"Description\":\"Description\"}\n",
    "    selected_columns = [col(c).alias(product_column_mapped.get(c,c)) for c in product_column_mapped]\n",
    "    product_mapped = df_product_columns_selected2.select(*selected_columns)\n",
    "    return product_mapped\n",
    "\n",
    "product_mapped = product_table_mapping(df_product_columns_selected2)\n",
    "\n",
    "def write_product(product_mapped):\n",
    "    product_mapped.write\\\n",
    "    .format(\"jdbc\")\\\n",
    "    .mode(\"append\")\\\n",
    "    .option(\"url\",\"jdbc:sqlserver://destination-landing-db.database.windows.net:1433;database=destination\")\\\n",
    "    .option(\"dbtable\",\"data_model.product\")\\\n",
    "    .option(\"user\",\"adminuser\")\\\n",
    "    .option(\"password\",\"Test1234\")\\\n",
    "    .option(\"mode\",\"append\")\\\n",
    "    .save()\n",
    "\n",
    "\n",
    "write_product(product_mapped)"
   ]
  },
  {
   "cell_type": "code",
   "execution_count": 0,
   "metadata": {
    "application/vnd.databricks.v1+cell": {
     "cellMetadata": {
      "byteLimit": 2048000,
      "rowLimit": 10000
     },
     "inputWidgets": {},
     "nuid": "8de2b110-0590-4c06-b7d3-c5d5aca3aefa",
     "showTitle": false,
     "title": ""
    }
   },
   "outputs": [],
   "source": [
    "def customer_table(df_read):\n",
    "    df_customer_columns = ['CustomerID','Country']\n",
    "    df_customer_columns_selected = df_read.select(*df_customer_columns)\n",
    "    df_customer_columns_selected = df_customer_columns_selected.dropDuplicates(['CustomerID'])\n",
    "    return df_customer_columns_selected\n",
    "\n",
    "df_customer_columns_selected = customer_table(df_read)\n",
    "\n",
    "def customer_table_mapping(df_customer_columns_selected):\n",
    "    customer_column_mapped = {\"CustomerID\":\"CustomerID\",\"Country\":\"Country\"}\n",
    "    selected_columns = [col(c).alias(customer_column_mapped.get(c,c)) for c in customer_column_mapped]\n",
    "    customer_mapped = df_customer_columns_selected.select(*selected_columns)\n",
    "    return customer_mapped\n",
    "\n",
    "customer_mapped = customer_table_mapping(df_customer_columns_selected)\n",
    "\n",
    "def write_customer(customer_mapped):\n",
    "    customer_mapped.write\\\n",
    "    .format(\"jdbc\")\\\n",
    "    .mode(\"append\")\\\n",
    "    .option(\"url\",\"jdbc:sqlserver://destination-landing-db.database.windows.net:1433;database=destination\")\\\n",
    "    .option(\"dbtable\",\"data_model.customer\")\\\n",
    "    .option(\"user\",\"adminuser\")\\\n",
    "    .option(\"password\",\"Test1234\")\\\n",
    "    .option(\"mode\",\"append\")\\\n",
    "    .save()\n",
    "\n",
    "write_customer(customer_mapped)"
   ]
  },
  {
   "cell_type": "code",
   "execution_count": 0,
   "metadata": {
    "application/vnd.databricks.v1+cell": {
     "cellMetadata": {
      "byteLimit": 2048000,
      "rowLimit": 10000
     },
     "inputWidgets": {},
     "nuid": "6320dcda-0e3b-4cd7-be4b-8211ec2a08a5",
     "showTitle": false,
     "title": ""
    }
   },
   "outputs": [],
   "source": [
    "def invoice_metadata_table(df_read):\n",
    "    df_invoice_metadata_columns = ['InvoiceNumber','InvoiceDate','CustomerID','StockCode']\n",
    "    df_invoice_metadata_columns_selected = df_read.select(*df_invoice_metadata_columns)\n",
    "    df_cleaned = df_invoice_metadata_columns_selected.withColumn('StockCode', trim(lower(col('StockCode'))))\n",
    "    df_invoice_metadata_columns_selected2 = df_cleaned.dropDuplicates()\n",
    "    return df_invoice_metadata_columns_selected2\n",
    "df_invoice_metadata_columns_selected2 = invoice_metadata_table(df_read)\n",
    "\n",
    "\n",
    "def invoice_metadata_table_mapping(df_invoice_metadata_columns_selected2):\n",
    "    invoice_metadata_column_mapped = {\"InvoiceNumber\":\"InvoiceNumber\",\"InvoiceDate\":\"InvoiceDate\",\"CustomerID\":\"CustomerID\",\"StockCode\":\"StockCode\"}\n",
    "    selected_columns = [col(c).alias(invoice_metadata_column_mapped.get(c,c)) for c in invoice_metadata_column_mapped]\n",
    "    invoice_metadata_mapped = df_invoice_metadata_columns_selected2.select(*selected_columns)\n",
    "    return invoice_metadata_mapped\n",
    "\n",
    "invoice_metadata_mapped = invoice_metadata_table_mapping(df_invoice_metadata_columns_selected2)\n",
    "\n",
    "def write_invoice_metadata(invoice_metadata_mapped):\n",
    "    invoice_metadata_mapped.write\\\n",
    "    .format(\"jdbc\")\\\n",
    "    .mode(\"append\")\\\n",
    "    .option(\"url\",\"jdbc:sqlserver://destination-landing-db.database.windows.net:1433;database=destination\")\\\n",
    "    .option(\"dbtable\",\"data_model.invoice_metadata\")\\\n",
    "    .option(\"user\",\"adminuser\")\\\n",
    "    .option(\"password\",\"Test1234\")\\\n",
    "    .option(\"mode\",\"append\")\\\n",
    "    .save()\n",
    "\n",
    "write_invoice_metadata(invoice_metadata_mapped)"
   ]
  },
  {
   "cell_type": "code",
   "execution_count": 0,
   "metadata": {
    "application/vnd.databricks.v1+cell": {
     "cellMetadata": {
      "byteLimit": 2048000,
      "rowLimit": 10000
     },
     "inputWidgets": {},
     "nuid": "36e0ced0-a2fb-4d08-9400-0ce951702497",
     "showTitle": false,
     "title": ""
    }
   },
   "outputs": [],
   "source": [
    "def invoice_details_table(df_read):\n",
    "    df_invoice_details_columns = ['InvoiceNumber','Cancellation','Quantity','UnitPrice','InvoiceDate']\n",
    "    df_invoice_details_columns_selected = df_read.select(*df_invoice_details_columns)\n",
    "    return df_invoice_details_columns_selected\n",
    "\n",
    "df_invoice_details_columns_selected = invoice_details_table(df_read)\n",
    "\n",
    "def invoice_details_table_mapping(df_invoice_details_columns_selected):\n",
    "    invoice_details_column_mapped = {\"InvoiceNumber\":\"InvoiceNumber\",\"Cancellation\":\"Cancellation\",\"Quantity\":\"Quantity\",\"UnitPrice\":\"UnitPrice\",\"InvoiceDate\":\"InvoiceDate\"}\n",
    "    selected_columns = [col(c).alias(invoice_details_column_mapped.get(c,c)) for c in invoice_details_column_mapped]\n",
    "    invoice_details_mapped = df_invoice_details_columns_selected.select(*selected_columns)\n",
    "    return invoice_details_mapped\n",
    "\n",
    "invoice_details_mapped = invoice_details_table_mapping(df_invoice_details_columns_selected)\n",
    "\n",
    "def write_invoice_details(invoice_details_mapped):\n",
    "    invoice_details_mapped.write\\\n",
    "    .format(\"jdbc\")\\\n",
    "    .mode(\"append\")\\\n",
    "    .option(\"url\",\"jdbc:sqlserver://destination-landing-db.database.windows.net:1433;database=destination\")\\\n",
    "    .option(\"dbtable\",\"invoice_details\")\\\n",
    "    .option(\"user\",\"adminuser\")\\\n",
    "    .option(\"password\",\"Test1234\")\\\n",
    "    .option(\"mode\",\"append\")\\\n",
    "    .save()\n",
    "\n",
    "write_invoice_details(invoice_details_mapped)"
   ]
  },
  {
   "cell_type": "code",
   "execution_count": 0,
   "metadata": {
    "application/vnd.databricks.v1+cell": {
     "cellMetadata": {},
     "inputWidgets": {},
     "nuid": "01ddfa0a-6afa-4be7-b19f-0695a68d1d9f",
     "showTitle": false,
     "title": ""
    }
   },
   "outputs": [],
   "source": []
  }
 ],
 "metadata": {
  "application/vnd.databricks.v1+notebook": {
   "dashboards": [],
   "language": "python",
   "notebookMetadata": {
    "pythonIndentUnit": 4
   },
   "notebookName": "online_retail_dm",
   "widgets": {}
  }
 },
 "nbformat": 4,
 "nbformat_minor": 0
}
