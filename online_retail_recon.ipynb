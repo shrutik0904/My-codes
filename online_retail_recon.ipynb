{
 "cells": [
  {
   "cell_type": "code",
   "execution_count": 0,
   "metadata": {
    "application/vnd.databricks.v1+cell": {
     "cellMetadata": {
      "byteLimit": 2048000,
      "rowLimit": 10000
     },
     "inputWidgets": {},
     "nuid": "039a051f-954d-4f30-9d23-8f3e61315a10",
     "showTitle": false,
     "title": ""
    }
   },
   "outputs": [],
   "source": [
    "import pyspark\n",
    "from pyspark.sql import SparkSession\n",
    "from pyspark.sql.functions import col\n",
    "from pyspark.sql.functions import trim, lower,concat_ws, collect_list"
   ]
  },
  {
   "cell_type": "code",
   "execution_count": 0,
   "metadata": {
    "application/vnd.databricks.v1+cell": {
     "cellMetadata": {},
     "inputWidgets": {},
     "nuid": "6cd3f2a8-a4d0-44b3-a372-5d9ef94dba44",
     "showTitle": false,
     "title": ""
    }
   },
   "outputs": [],
   "source": [
    "spark = SparkSession.builder \\\n",
    "    .appName(\"data_modelling\") \\\n",
    "    .getOrCreate()"
   ]
  },
  {
   "cell_type": "code",
   "execution_count": 0,
   "metadata": {
    "application/vnd.databricks.v1+cell": {
     "cellMetadata": {
      "byteLimit": 2048000,
      "rowLimit": 10000
     },
     "inputWidgets": {},
     "nuid": "a27b0b6b-e9fb-4f61-bd34-73490da04ab5",
     "showTitle": false,
     "title": ""
    }
   },
   "outputs": [],
   "source": [
    "df_read = spark.read.format(\"jdbc\") \\\n",
    "    .option(\"url\", \"jdbc:sqlserver://destination-landing-db.database.windows.net:1433;database=destination\") \\\n",
    "    .option(\"user\", 'adminuser@destination-landing-db') \\\n",
    "    .option(\"password\", 'Test1234') \\\n",
    "    .option(\"query\", f\"\"\"\n",
    "        SELECT\n",
    "            'online_retail_dm' as data_model,\n",
    "            'invoice_meta_data' as table_name,\n",
    "            query1.src_count,\n",
    "            query2.trg_count,\n",
    "            query1.src_count - query2.trg_count as difference_count,\n",
    "            CURRENT_TIMESTAMP as time_recorded\n",
    "        FROM\n",
    "            (SELECT COUNT(InvoiceNo) as src_count\n",
    "             FROM destination.online_retail\n",
    "             WHERE InvoiceDate = (SELECT MAX(InvoiceDate) FROM destination.online_retail)) as query1\n",
    "        JOIN\n",
    "            (SELECT COUNT(InvoiceNumber) as trg_count\n",
    "             FROM data_model.invoice_metadata\n",
    "             WHERE InvoiceDate = (SELECT MAX(InvoiceDate) FROM data_model.invoice_metadata)) as query2\n",
    "        ON 1=1\n",
    "    \"\"\") \\\n",
    "    .load()\n"
   ]
  },
  {
   "cell_type": "code",
   "execution_count": 0,
   "metadata": {
    "application/vnd.databricks.v1+cell": {
     "cellMetadata": {
      "byteLimit": 2048000,
      "rowLimit": 10000
     },
     "inputWidgets": {},
     "nuid": "a6bafb0a-9234-4b63-a05a-6a1517af5238",
     "showTitle": false,
     "title": ""
    }
   },
   "outputs": [
    {
     "output_type": "stream",
     "name": "stdout",
     "output_type": "stream",
     "text": [
      "+----------------+-----------------+---------+---------+----------------+--------------------+\n|      data_model|       table_name|src_count|trg_count|difference_count|       time_recorded|\n+----------------+-----------------+---------+---------+----------------+--------------------+\n|online_retail_dm|invoice_meta_data|     1632|     1613|              19|2024-01-28 11:54:...|\n+----------------+-----------------+---------+---------+----------------+--------------------+\n\n"
     ]
    }
   ],
   "source": [
    "df_read.show()"
   ]
  },
  {
   "cell_type": "code",
   "execution_count": 0,
   "metadata": {
    "application/vnd.databricks.v1+cell": {
     "cellMetadata": {
      "byteLimit": 2048000,
      "rowLimit": 10000
     },
     "inputWidgets": {},
     "nuid": "2a042837-f622-4ed9-99d2-e0c8c4402711",
     "showTitle": false,
     "title": ""
    }
   },
   "outputs": [],
   "source": [
    "df_read.write.format(\"jdbc\").mode(\"append\").option(\"url\",\"jdbc:sqlserver://destination-landing-db.database.windows.net:1433;database=destination\")\\\n",
    "    .option(\"dbtable\",\"reconcilliation.records_sync\")\\\n",
    "    .option(\"user\",\"adminuser\")\\\n",
    "    .option(\"password\",\"Test1234\")\\\n",
    "    .option(\"mode\",\"append\")\\\n",
    "    .save()"
   ]
  },
  {
   "cell_type": "code",
   "execution_count": 0,
   "metadata": {
    "application/vnd.databricks.v1+cell": {
     "cellMetadata": {
      "byteLimit": 2048000,
      "rowLimit": 10000
     },
     "inputWidgets": {},
     "nuid": "1d23aeef-2c79-40cf-90a2-c8561409993e",
     "showTitle": false,
     "title": ""
    }
   },
   "outputs": [],
   "source": [
    "# query = f\"\"\"\n",
    "#             select 'online_retail_dm' as data_model, 'invoice_meta_data' as table_name, query1.src_count, query2.trg_count, query1.src_count - query2.trg_count as difference_count,CURRENT_TIMESTAMP as time_recorded  \n",
    "#             from  \n",
    "#             (\n",
    "#             select count(*) as src_count from destination.online_retail where InvoiceDate = (select max(InvoiceDate) from destination.online_retail)) as query1\n",
    "#             join (\n",
    "#               select count(*) as trg_count from data_model.invoice_metadata where InvoiceDate = (select max(InvoiceDate) from data_model.invoice_metadata)\n",
    "#             )as query2\n",
    "#             on 1=1\n",
    "#             \"\"\""
   ]
  }
 ],
 "metadata": {
  "application/vnd.databricks.v1+notebook": {
   "dashboards": [],
   "language": "python",
   "notebookMetadata": {
    "pythonIndentUnit": 4
   },
   "notebookName": "online_retail_recon",
   "widgets": {}
  }
 },
 "nbformat": 4,
 "nbformat_minor": 0
}
