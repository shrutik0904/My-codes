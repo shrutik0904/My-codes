{
 "cells": [
  {
   "cell_type": "code",
   "execution_count": 0,
   "metadata": {
    "application/vnd.databricks.v1+cell": {
     "cellMetadata": {
      "byteLimit": 2048000,
      "rowLimit": 10000
     },
     "inputWidgets": {},
     "nuid": "259d6bec-26e1-4f89-b76c-55c7d9847cc4",
     "showTitle": false,
     "title": ""
    }
   },
   "outputs": [],
   "source": [
    "import pyspark\n",
    "from pyspark.sql import SparkSession\n",
    "from pyspark.sql.functions import isnull, count, when\n",
    "from pyspark.sql.functions import count, when, col,split,to_timestamp\n",
    "from pyspark.sql.types import IntegerType, DateType, FloatType, TimestampType"
   ]
  },
  {
   "cell_type": "code",
   "execution_count": 0,
   "metadata": {
    "application/vnd.databricks.v1+cell": {
     "cellMetadata": {
      "byteLimit": 2048000,
      "rowLimit": 10000
     },
     "inputWidgets": {},
     "nuid": "8716c9ff-6ce7-4588-9322-d2f9f087d918",
     "showTitle": false,
     "title": ""
    }
   },
   "outputs": [],
   "source": [
    "spark = SparkSession.builder \\\n",
    "    .appName(\"online_retail\") \\\n",
    "    .config(\"spark.sql.legacy.timeParserPolicy\", \"LEGACY\") \\\n",
    "    .getOrCreate()"
   ]
  },
  {
   "cell_type": "code",
   "execution_count": 0,
   "metadata": {
    "application/vnd.databricks.v1+cell": {
     "cellMetadata": {
      "byteLimit": 2048000,
      "rowLimit": 10000
     },
     "inputWidgets": {},
     "nuid": "69d4d89f-f9cf-4f91-b946-2320bb81458d",
     "showTitle": false,
     "title": ""
    }
   },
   "outputs": [],
   "source": [
    "df = spark.read.format(\"jdbc\").option(\"url\", \"jdbc:sqlserver://destination-landing-db.database.windows.net:1433;database=destination\").option(\"dbtable\", 'destination.online_retail').option(\"user\", 'adminuser@destination-landing-db').option(\"password\", 'Test1234').load() "
   ]
  },
  {
   "cell_type": "code",
   "execution_count": 0,
   "metadata": {
    "application/vnd.databricks.v1+cell": {
     "cellMetadata": {
      "byteLimit": 2048000,
      "rowLimit": 10000
     },
     "inputWidgets": {},
     "nuid": "4ef0d4b6-029c-450f-8c8e-408d4f083c8d",
     "showTitle": false,
     "title": ""
    }
   },
   "outputs": [],
   "source": [
    "def data_cleaning(df):\n",
    "  df = df.na.fill('na', subset=['Description'])\n",
    "  df = df.na.drop(subset=['CustomerID'])\n",
    "  df = df.dropDuplicates()\n",
    "  return df"
   ]
  },
  {
   "cell_type": "code",
   "execution_count": 0,
   "metadata": {
    "application/vnd.databricks.v1+cell": {
     "cellMetadata": {
      "byteLimit": 2048000,
      "rowLimit": 10000
     },
     "inputWidgets": {},
     "nuid": "a642dcdf-73d7-4561-891d-3099443973ca",
     "showTitle": false,
     "title": ""
    }
   },
   "outputs": [],
   "source": [
    "def data_transformation(df):\n",
    "  df = df.withColumn('InvoiceNumber', when(col('InvoiceNo').startswith('C'), split('InvoiceNo', 'C')[1]).otherwise(col('InvoiceNo')))\n",
    "  df = df.withColumn('Cancellation', when(col('InvoiceNo').startswith('C'), 'C').otherwise('NC'))\n",
    "  selected_columns = ['InvoiceNumber','Cancellation','StockCode','Description','Quantity','InvoiceDate','UnitPrice','CustomerID','Country']\n",
    "  df_column_selected = df.select(*selected_columns)\n",
    "  df_column_selected = df_column_selected.withColumn(\"Quantity\", col(\"Quantity\").cast(IntegerType())) \\\n",
    "    .withColumn(\"CustomerID\", col(\"CustomerID\").cast(IntegerType())) \\\n",
    "    .withColumn(\"UnitPrice\", col(\"UnitPrice\").cast(FloatType())) \\\n",
    "    .withColumn(\"InvoiceNumber\", col(\"InvoiceNumber\").cast(IntegerType())) \n",
    "#   df_column_selected = df_column_selected.withColumn(\"InvoiceDate\", to_timestamp(col(\"InvoiceDate\"), 'MM/dd/yyyy H:mm'))\n",
    "  df_column_selected = df_column_selected.withColumn(\"InvoiceDate\", col(\"InvoiceDate\").cast(TimestampType()))\n",
    "\n",
    "  return df_column_selected\n"
   ]
  },
  {
   "cell_type": "code",
   "execution_count": 0,
   "metadata": {
    "application/vnd.databricks.v1+cell": {
     "cellMetadata": {
      "byteLimit": 2048000,
      "rowLimit": 10000
     },
     "inputWidgets": {},
     "nuid": "5e579600-91f7-42ae-8286-8512facaa425",
     "showTitle": false,
     "title": ""
    }
   },
   "outputs": [],
   "source": [
    "def write_cleaned_data(df_column_selected):\n",
    "    df_column_selected.write.format(\"jdbc\").mode(\"append\").option(\"url\",\"jdbc:sqlserver://destination-landing-db.database.windows.net:1433;database=destination\").option(\"dbtable\",\"curated_layer.transformed_data\").option(\"user\",\"adminuser\").option(\"password\",\"Test1234\").option(\"mode\",\"append\").save()\n"
   ]
  },
  {
   "cell_type": "code",
   "execution_count": 0,
   "metadata": {
    "application/vnd.databricks.v1+cell": {
     "cellMetadata": {
      "byteLimit": 2048000,
      "rowLimit": 10000
     },
     "inputWidgets": {},
     "nuid": "77a73ec3-877e-4ae3-93d9-a9fb8eebbabd",
     "showTitle": false,
     "title": ""
    }
   },
   "outputs": [],
   "source": [
    "df = data_cleaning(df)\n",
    "df_column_selected = data_transformation(df)\n",
    "write_cleaned_data(df_column_selected)"
   ]
  }
 ],
 "metadata": {
  "application/vnd.databricks.v1+notebook": {
   "dashboards": [],
   "language": "python",
   "notebookMetadata": {
    "pythonIndentUnit": 4
   },
   "notebookName": "online_retail_curated_data",
   "widgets": {}
  }
 },
 "nbformat": 4,
 "nbformat_minor": 0
}
